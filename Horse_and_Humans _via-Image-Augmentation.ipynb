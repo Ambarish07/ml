{
  "nbformat": 4,
  "nbformat_minor": 0,
  "metadata": {
    "accelerator": "GPU",
    "colab": {
      "name": "Course 2 - Part 4 - Lesson 4 - Notebook.ipynb",
      "provenance": [],
      "collapsed_sections": [],
      "toc_visible": true
    },
    "kernelspec": {
      "display_name": "Python 3",
      "name": "python3"
    }
  },
  "cells": [
    {
      "cell_type": "markdown",
      "metadata": {
        "colab_type": "text",
        "id": "rX8mhOLljYeM"
      },
      "source": [
        "##### Copyright 2019 The TensorFlow Authors."
      ]
    },
    {
      "cell_type": "code",
      "metadata": {
        "cellView": "form",
        "colab_type": "code",
        "id": "BZSlp3DAjdYf",
        "colab": {}
      },
      "source": [
        "#@title Licensed under the Apache License, Version 2.0 (the \"License\");\n",
        "# you may not use this file except in compliance with the License.\n",
        "# You may obtain a copy of the License at\n",
        "#\n",
        "# https://www.apache.org/licenses/LICENSE-2.0\n",
        "#\n",
        "# Unless required by applicable law or agreed to in writing, software\n",
        "# distributed under the License is distributed on an \"AS IS\" BASIS,\n",
        "# WITHOUT WARRANTIES OR CONDITIONS OF ANY KIND, either express or implied.\n",
        "# See the License for the specific language governing permissions and\n",
        "# limitations under the License."
      ],
      "execution_count": 0,
      "outputs": []
    },
    {
      "cell_type": "code",
      "metadata": {
        "colab_type": "code",
        "id": "RXZT2UsyIVe_",
        "colab": {
          "base_uri": "https://localhost:8080/",
          "height": 411
        },
        "outputId": "bfa8b1fd-4bc1-46b2-d87e-f055c41d7e59"
      },
      "source": [
        "!wget --no-check-certificate \\\n",
        "    https://storage.googleapis.com/laurencemoroney-blog.appspot.com/horse-or-human.zip \\\n",
        "    -O /tmp/horse-or-human.zip\n",
        "\n",
        "!wget --no-check-certificate \\\n",
        "    https://storage.googleapis.com/laurencemoroney-blog.appspot.com/validation-horse-or-human.zip \\\n",
        "    -O /tmp/validation-horse-or-human.zip\n",
        "  \n",
        "import os\n",
        "import zipfile\n",
        "\n",
        "local_zip = '/tmp/horse-or-human.zip'\n",
        "zip_ref = zipfile.ZipFile(local_zip, 'r')\n",
        "zip_ref.extractall('/tmp/horse-or-human')\n",
        "local_zip = '/tmp/validation-horse-or-human.zip'\n",
        "zip_ref = zipfile.ZipFile(local_zip, 'r')\n",
        "zip_ref.extractall('/tmp/validation-horse-or-human')\n",
        "zip_ref.close()\n",
        "# Directory with our training horse pictures\n",
        "train_horse_dir = os.path.join('/tmp/horse-or-human/horses')\n",
        "\n",
        "# Directory with our training human pictures\n",
        "train_human_dir = os.path.join('/tmp/horse-or-human/humans')\n",
        "\n",
        "# Directory with our training horse pictures\n",
        "validation_horse_dir = os.path.join('/tmp/validation-horse-or-human/horses')\n",
        "\n",
        "# Directory with our training human pictures\n",
        "validation_human_dir = os.path.join('/tmp/validation-horse-or-human/humans')"
      ],
      "execution_count": 2,
      "outputs": [
        {
          "output_type": "stream",
          "text": [
            "--2020-05-25 10:28:56--  https://storage.googleapis.com/laurencemoroney-blog.appspot.com/horse-or-human.zip\n",
            "Resolving storage.googleapis.com (storage.googleapis.com)... 64.233.166.128, 2a00:1450:400c:c00::80\n",
            "Connecting to storage.googleapis.com (storage.googleapis.com)|64.233.166.128|:443... connected.\n",
            "HTTP request sent, awaiting response... 200 OK\n",
            "Length: 149574867 (143M) [application/zip]\n",
            "Saving to: ‘/tmp/horse-or-human.zip’\n",
            "\n",
            "\r/tmp/horse-or-human   0%[                    ]       0  --.-KB/s               \r/tmp/horse-or-human   2%[                    ]   4.01M  15.5MB/s               \r/tmp/horse-or-human  17%[==>                 ]  25.65M  55.9MB/s               \r/tmp/horse-or-human  44%[=======>            ]  64.01M  95.1MB/s               \r/tmp/horse-or-human  67%[============>       ]  96.01M   102MB/s               \r/tmp/horse-or-human  89%[================>   ] 128.01M   102MB/s               \r/tmp/horse-or-human 100%[===================>] 142.65M   108MB/s    in 1.3s    \n",
            "\n",
            "2020-05-25 10:28:58 (108 MB/s) - ‘/tmp/horse-or-human.zip’ saved [149574867/149574867]\n",
            "\n",
            "--2020-05-25 10:29:07--  https://storage.googleapis.com/laurencemoroney-blog.appspot.com/validation-horse-or-human.zip\n",
            "Resolving storage.googleapis.com (storage.googleapis.com)... 66.102.1.128, 2a00:1450:400c:c09::80\n",
            "Connecting to storage.googleapis.com (storage.googleapis.com)|66.102.1.128|:443... connected.\n",
            "HTTP request sent, awaiting response... 200 OK\n",
            "Length: 11480187 (11M) [application/zip]\n",
            "Saving to: ‘/tmp/validation-horse-or-human.zip’\n",
            "\n",
            "/tmp/validation-hor 100%[===================>]  10.95M  37.5MB/s    in 0.3s    \n",
            "\n",
            "2020-05-25 10:29:09 (37.5 MB/s) - ‘/tmp/validation-horse-or-human.zip’ saved [11480187/11480187]\n",
            "\n"
          ],
          "name": "stdout"
        }
      ]
    },
    {
      "cell_type": "markdown",
      "metadata": {
        "colab_type": "text",
        "id": "5oqBkNBJmtUv"
      },
      "source": [
        "## Building a Small Model from Scratch\n",
        "\n",
        "But before we continue, let's start defining the model:\n",
        "\n",
        "Step 1 will be to import tensorflow."
      ]
    },
    {
      "cell_type": "code",
      "metadata": {
        "colab_type": "code",
        "id": "qvfZg3LQbD-5",
        "colab": {}
      },
      "source": [
        "import tensorflow as tf"
      ],
      "execution_count": 0,
      "outputs": []
    },
    {
      "cell_type": "markdown",
      "metadata": {
        "colab_type": "text",
        "id": "BnhYCP4tdqjC"
      },
      "source": [
        "We then add convolutional layers as in the previous example, and flatten the final result to feed into the densely connected layers."
      ]
    },
    {
      "cell_type": "markdown",
      "metadata": {
        "colab_type": "text",
        "id": "gokG5HKpdtzm"
      },
      "source": [
        "Finally we add the densely connected layers. \n",
        "\n",
        "Note that because we are facing a two-class classification problem, i.e. a *binary classification problem*, we will end our network with a [*sigmoid* activation](https://wikipedia.org/wiki/Sigmoid_function), so that the output of our network will be a single scalar between 0 and 1, encoding the probability that the current image is class 1 (as opposed to class 0)."
      ]
    },
    {
      "cell_type": "code",
      "metadata": {
        "colab_type": "code",
        "id": "PixZ2s5QbYQ3",
        "colab": {}
      },
      "source": [
        "model = tf.keras.models.Sequential([\n",
        "    # Note the input shape is the desired size of the image 300x300 with 3 bytes color\n",
        "    # This is the first convolution\n",
        "    tf.keras.layers.Conv2D(16, (3,3), activation='relu', input_shape=(300, 300, 3)),\n",
        "    tf.keras.layers.MaxPooling2D(2, 2),\n",
        "    # The second convolution\n",
        "    tf.keras.layers.Conv2D(32, (3,3), activation='relu'),\n",
        "    tf.keras.layers.MaxPooling2D(2,2),\n",
        "    # The third convolution\n",
        "    tf.keras.layers.Conv2D(64, (3,3), activation='relu'),\n",
        "    tf.keras.layers.MaxPooling2D(2,2),\n",
        "    # The fourth convolution\n",
        "    tf.keras.layers.Conv2D(64, (3,3), activation='relu'),\n",
        "    tf.keras.layers.MaxPooling2D(2,2),\n",
        "    # The fifth convolution\n",
        "    tf.keras.layers.Conv2D(64, (3,3), activation='relu'),\n",
        "    tf.keras.layers.MaxPooling2D(2,2),\n",
        "    # Flatten the results to feed into a DNN\n",
        "    tf.keras.layers.Flatten(),\n",
        "    # 512 neuron hidden layer\n",
        "    tf.keras.layers.Dense(512, activation='relu'),\n",
        "    # Only 1 output neuron. It will contain a value from 0-1 where 0 for 1 class ('horses') and 1 for the other ('humans')\n",
        "    tf.keras.layers.Dense(1, activation='sigmoid')\n",
        "])"
      ],
      "execution_count": 0,
      "outputs": []
    },
    {
      "cell_type": "code",
      "metadata": {
        "colab_type": "code",
        "id": "8DHWhFP_uhq3",
        "colab": {}
      },
      "source": [
        "from tensorflow.keras.optimizers import RMSprop\n",
        "\n",
        "model.compile(loss='binary_crossentropy',\n",
        "              optimizer=RMSprop(lr=1e-4),\n",
        "              metrics=['accuracy'])"
      ],
      "execution_count": 0,
      "outputs": []
    },
    {
      "cell_type": "code",
      "metadata": {
        "colab_type": "code",
        "id": "ClebU9NJg99G",
        "colab": {
          "base_uri": "https://localhost:8080/",
          "height": 51
        },
        "outputId": "bd50b2c4-d47f-4ff0-cab9-c60d5aa4d86f"
      },
      "source": [
        "from tensorflow.keras.preprocessing.image import ImageDataGenerator\n",
        "\n",
        "# All images will be rescaled by 1./255\n",
        "train_datagen = ImageDataGenerator(\n",
        "      rescale=1./255,\n",
        "      rotation_range=40,\n",
        "      width_shift_range=0.2,\n",
        "      height_shift_range=0.2,\n",
        "      shear_range=0.2,\n",
        "      zoom_range=0.2,\n",
        "      horizontal_flip=True,\n",
        "      fill_mode='nearest')\n",
        "\n",
        "validation_datagen = ImageDataGenerator(rescale=1/255)\n",
        "\n",
        "# Flow training images in batches of 128 using train_datagen generator\n",
        "train_generator = train_datagen.flow_from_directory(\n",
        "        '/tmp/horse-or-human/',  # This is the source directory for training images\n",
        "        target_size=(300, 300),  # All images will be resized to 150x150\n",
        "        batch_size=128,\n",
        "        # Since we use binary_crossentropy loss, we need binary labels\n",
        "        class_mode='binary')\n",
        "\n",
        "# Flow training images in batches of 128 using train_datagen generator\n",
        "validation_generator = validation_datagen.flow_from_directory(\n",
        "        '/tmp/validation-horse-or-human/',  # This is the source directory for training images\n",
        "        target_size=(300, 300),  # All images will be resized to 150x150\n",
        "        batch_size=32,\n",
        "        # Since we use binary_crossentropy loss, we need binary labels\n",
        "        class_mode='binary')"
      ],
      "execution_count": 6,
      "outputs": [
        {
          "output_type": "stream",
          "text": [
            "Found 1027 images belonging to 2 classes.\n",
            "Found 256 images belonging to 2 classes.\n"
          ],
          "name": "stdout"
        }
      ]
    },
    {
      "cell_type": "code",
      "metadata": {
        "colab_type": "code",
        "id": "Fb1_lgobv81m",
        "colab": {
          "base_uri": "https://localhost:8080/",
          "height": 1000
        },
        "outputId": "e9ab2357-599d-478e-80c4-caf7d8c48eba"
      },
      "source": [
        "history = model.fit(\n",
        "      train_generator,\n",
        "      steps_per_epoch=8,  \n",
        "      epochs=100,\n",
        "      verbose=1,\n",
        "      validation_data = validation_generator,\n",
        "      validation_steps=8)"
      ],
      "execution_count": 0,
      "outputs": [
        {
          "output_type": "stream",
          "text": [
            "Epoch 1/100\n",
            "8/8 [==============================] - 20s 2s/step - loss: 0.6816 - accuracy: 0.5693 - val_loss: 0.6234 - val_accuracy: 0.8594\n",
            "Epoch 2/100\n",
            "8/8 [==============================] - 20s 3s/step - loss: 0.6586 - accuracy: 0.6085 - val_loss: 0.5875 - val_accuracy: 0.7031\n",
            "Epoch 3/100\n",
            "8/8 [==============================] - 20s 3s/step - loss: 0.6250 - accuracy: 0.7442 - val_loss: 0.6136 - val_accuracy: 0.5430\n",
            "Epoch 4/100\n",
            "8/8 [==============================] - 20s 3s/step - loss: 0.6092 - accuracy: 0.6574 - val_loss: 0.5023 - val_accuracy: 0.7852\n",
            "Epoch 5/100\n",
            "8/8 [==============================] - 24s 3s/step - loss: 0.5642 - accuracy: 0.7297 - val_loss: 0.6912 - val_accuracy: 0.5547\n",
            "Epoch 6/100\n",
            "8/8 [==============================] - 20s 3s/step - loss: 0.5710 - accuracy: 0.7075 - val_loss: 0.5928 - val_accuracy: 0.6328\n",
            "Epoch 7/100\n",
            "8/8 [==============================] - 20s 3s/step - loss: 0.5358 - accuracy: 0.7664 - val_loss: 0.6777 - val_accuracy: 0.6250\n",
            "Epoch 8/100\n",
            "8/8 [==============================] - 20s 3s/step - loss: 0.5443 - accuracy: 0.7253 - val_loss: 0.6309 - val_accuracy: 0.6562\n",
            "Epoch 9/100\n",
            "8/8 [==============================] - 23s 3s/step - loss: 0.5342 - accuracy: 0.7442 - val_loss: 0.5479 - val_accuracy: 0.7266\n",
            "Epoch 10/100\n",
            "8/8 [==============================] - 20s 3s/step - loss: 0.4851 - accuracy: 0.7898 - val_loss: 0.7631 - val_accuracy: 0.6328\n",
            "Epoch 11/100\n",
            "8/8 [==============================] - 20s 3s/step - loss: 0.4966 - accuracy: 0.7631 - val_loss: 0.6301 - val_accuracy: 0.7148\n",
            "Epoch 12/100\n",
            "8/8 [==============================] - 20s 3s/step - loss: 0.4507 - accuracy: 0.8020 - val_loss: 0.6663 - val_accuracy: 0.7305\n",
            "Epoch 13/100\n",
            "8/8 [==============================] - 21s 3s/step - loss: 0.5030 - accuracy: 0.7620 - val_loss: 0.5825 - val_accuracy: 0.7578\n",
            "Epoch 14/100\n",
            "8/8 [==============================] - 21s 3s/step - loss: 0.4904 - accuracy: 0.7753 - val_loss: 0.7072 - val_accuracy: 0.6992\n",
            "Epoch 15/100\n",
            "8/8 [==============================] - 21s 3s/step - loss: 0.4331 - accuracy: 0.7998 - val_loss: 0.8512 - val_accuracy: 0.6797\n",
            "Epoch 16/100\n",
            "8/8 [==============================] - 21s 3s/step - loss: 0.4539 - accuracy: 0.7931 - val_loss: 0.9068 - val_accuracy: 0.6523\n",
            "Epoch 17/100\n",
            "8/8 [==============================] - 21s 3s/step - loss: 0.4810 - accuracy: 0.7820 - val_loss: 0.7861 - val_accuracy: 0.6875\n",
            "Epoch 18/100\n",
            "8/8 [==============================] - 23s 3s/step - loss: 0.4097 - accuracy: 0.8154 - val_loss: 1.0803 - val_accuracy: 0.6406\n",
            "Epoch 19/100\n",
            "8/8 [==============================] - 21s 3s/step - loss: 0.4151 - accuracy: 0.8187 - val_loss: 1.2776 - val_accuracy: 0.5742\n",
            "Epoch 20/100\n",
            "8/8 [==============================] - 23s 3s/step - loss: 0.4087 - accuracy: 0.8184 - val_loss: 0.9387 - val_accuracy: 0.6484\n",
            "Epoch 21/100\n",
            "8/8 [==============================] - 21s 3s/step - loss: 0.3887 - accuracy: 0.8209 - val_loss: 1.1427 - val_accuracy: 0.6172\n",
            "Epoch 22/100\n",
            "8/8 [==============================] - 21s 3s/step - loss: 0.4113 - accuracy: 0.7987 - val_loss: 1.2072 - val_accuracy: 0.6289\n",
            "Epoch 23/100\n",
            "8/8 [==============================] - 21s 3s/step - loss: 0.3935 - accuracy: 0.8198 - val_loss: 1.0804 - val_accuracy: 0.6406\n",
            "Epoch 24/100\n",
            "8/8 [==============================] - 21s 3s/step - loss: 0.3690 - accuracy: 0.8398 - val_loss: 1.2816 - val_accuracy: 0.6406\n",
            "Epoch 25/100\n",
            "8/8 [==============================] - 21s 3s/step - loss: 0.4837 - accuracy: 0.8009 - val_loss: 1.3364 - val_accuracy: 0.6250\n",
            "Epoch 26/100\n",
            "8/8 [==============================] - 21s 3s/step - loss: 0.3731 - accuracy: 0.8420 - val_loss: 1.1730 - val_accuracy: 0.6562\n",
            "Epoch 27/100\n",
            "8/8 [==============================] - 21s 3s/step - loss: 0.3886 - accuracy: 0.8209 - val_loss: 1.5581 - val_accuracy: 0.5820\n",
            "Epoch 28/100\n",
            "8/8 [==============================] - 21s 3s/step - loss: 0.3433 - accuracy: 0.8676 - val_loss: 1.4398 - val_accuracy: 0.6133\n",
            "Epoch 29/100\n",
            "8/8 [==============================] - 21s 3s/step - loss: 0.4041 - accuracy: 0.8276 - val_loss: 1.5165 - val_accuracy: 0.5977\n",
            "Epoch 30/100\n",
            "8/8 [==============================] - 21s 3s/step - loss: 0.3305 - accuracy: 0.8521 - val_loss: 1.4594 - val_accuracy: 0.6055\n",
            "Epoch 31/100\n",
            "8/8 [==============================] - 21s 3s/step - loss: 0.3454 - accuracy: 0.8554 - val_loss: 1.4411 - val_accuracy: 0.6094\n",
            "Epoch 32/100\n",
            "8/8 [==============================] - 21s 3s/step - loss: 0.3015 - accuracy: 0.8788 - val_loss: 1.3103 - val_accuracy: 0.6641\n",
            "Epoch 33/100\n",
            "8/8 [==============================] - 21s 3s/step - loss: 0.3844 - accuracy: 0.8265 - val_loss: 1.2173 - val_accuracy: 0.6680\n",
            "Epoch 34/100\n",
            "8/8 [==============================] - 21s 3s/step - loss: 0.2781 - accuracy: 0.8943 - val_loss: 2.5723 - val_accuracy: 0.5352\n",
            "Epoch 35/100\n",
            "8/8 [==============================] - 21s 3s/step - loss: 0.3664 - accuracy: 0.8420 - val_loss: 1.2622 - val_accuracy: 0.6484\n",
            "Epoch 36/100\n",
            "8/8 [==============================] - 21s 3s/step - loss: 0.3225 - accuracy: 0.8687 - val_loss: 1.3703 - val_accuracy: 0.6367\n",
            "Epoch 37/100\n",
            "8/8 [==============================] - 21s 3s/step - loss: 0.3014 - accuracy: 0.8843 - val_loss: 1.4331 - val_accuracy: 0.6562\n",
            "Epoch 38/100\n",
            "8/8 [==============================] - 21s 3s/step - loss: 0.3126 - accuracy: 0.8632 - val_loss: 1.2374 - val_accuracy: 0.6797\n",
            "Epoch 39/100\n",
            "8/8 [==============================] - 21s 3s/step - loss: 0.3466 - accuracy: 0.8465 - val_loss: 1.1644 - val_accuracy: 0.6836\n",
            "Epoch 40/100\n",
            "8/8 [==============================] - 21s 3s/step - loss: 0.2684 - accuracy: 0.8966 - val_loss: 1.4810 - val_accuracy: 0.6484\n",
            "Epoch 41/100\n",
            "8/8 [==============================] - 21s 3s/step - loss: 0.3238 - accuracy: 0.8598 - val_loss: 1.7408 - val_accuracy: 0.6055\n",
            "Epoch 42/100\n",
            "8/8 [==============================] - 21s 3s/step - loss: 0.2581 - accuracy: 0.8977 - val_loss: 1.3442 - val_accuracy: 0.6758\n",
            "Epoch 43/100\n",
            "8/8 [==============================] - 21s 3s/step - loss: 0.3105 - accuracy: 0.8721 - val_loss: 2.2441 - val_accuracy: 0.5742\n",
            "Epoch 44/100\n",
            "8/8 [==============================] - 23s 3s/step - loss: 0.3081 - accuracy: 0.8652 - val_loss: 1.5303 - val_accuracy: 0.6406\n",
            "Epoch 45/100\n",
            "8/8 [==============================] - 21s 3s/step - loss: 0.2510 - accuracy: 0.8943 - val_loss: 1.9337 - val_accuracy: 0.5938\n",
            "Epoch 46/100\n",
            "8/8 [==============================] - 24s 3s/step - loss: 0.3062 - accuracy: 0.8687 - val_loss: 1.4468 - val_accuracy: 0.6719\n",
            "Epoch 47/100\n",
            "8/8 [==============================] - 24s 3s/step - loss: 0.2990 - accuracy: 0.8754 - val_loss: 1.7235 - val_accuracy: 0.6367\n",
            "Epoch 48/100\n",
            "8/8 [==============================] - 24s 3s/step - loss: 0.2780 - accuracy: 0.8776 - val_loss: 1.3423 - val_accuracy: 0.6758\n",
            "Epoch 49/100\n",
            "8/8 [==============================] - 21s 3s/step - loss: 0.2524 - accuracy: 0.8966 - val_loss: 1.3777 - val_accuracy: 0.6836\n",
            "Epoch 50/100\n",
            "8/8 [==============================] - 21s 3s/step - loss: 0.4282 - accuracy: 0.8365 - val_loss: 0.9033 - val_accuracy: 0.6992\n",
            "Epoch 51/100\n",
            "8/8 [==============================] - 23s 3s/step - loss: 0.2366 - accuracy: 0.9062 - val_loss: 1.2998 - val_accuracy: 0.6719\n",
            "Epoch 52/100\n",
            "8/8 [==============================] - 21s 3s/step - loss: 0.2146 - accuracy: 0.9277 - val_loss: 1.7107 - val_accuracy: 0.6484\n",
            "Epoch 53/100\n",
            "8/8 [==============================] - 23s 3s/step - loss: 0.2477 - accuracy: 0.8965 - val_loss: 1.7327 - val_accuracy: 0.6445\n",
            "Epoch 54/100\n",
            "8/8 [==============================] - 21s 3s/step - loss: 0.2197 - accuracy: 0.9310 - val_loss: 1.4152 - val_accuracy: 0.6875\n",
            "Epoch 55/100\n",
            "8/8 [==============================] - 21s 3s/step - loss: 0.2257 - accuracy: 0.9166 - val_loss: 0.2565 - val_accuracy: 0.9023\n",
            "Epoch 56/100\n",
            "8/8 [==============================] - 21s 3s/step - loss: 0.3145 - accuracy: 0.8654 - val_loss: 1.4937 - val_accuracy: 0.6719\n",
            "Epoch 57/100\n",
            "8/8 [==============================] - 21s 3s/step - loss: 0.2275 - accuracy: 0.9155 - val_loss: 1.2227 - val_accuracy: 0.7109\n",
            "Epoch 58/100\n",
            "8/8 [==============================] - 21s 3s/step - loss: 0.2228 - accuracy: 0.9110 - val_loss: 1.9139 - val_accuracy: 0.6094\n",
            "Epoch 59/100\n",
            "8/8 [==============================] - 21s 3s/step - loss: 0.2715 - accuracy: 0.9132 - val_loss: 1.0097 - val_accuracy: 0.7227\n",
            "Epoch 60/100\n",
            "8/8 [==============================] - 21s 3s/step - loss: 0.2145 - accuracy: 0.9143 - val_loss: 1.5809 - val_accuracy: 0.6719\n",
            "Epoch 61/100\n",
            "8/8 [==============================] - 21s 3s/step - loss: 0.2544 - accuracy: 0.8977 - val_loss: 1.6594 - val_accuracy: 0.6641\n",
            "Epoch 62/100\n",
            "8/8 [==============================] - 24s 3s/step - loss: 0.2311 - accuracy: 0.9066 - val_loss: 1.6162 - val_accuracy: 0.6562\n",
            "Epoch 63/100\n",
            "8/8 [==============================] - 21s 3s/step - loss: 0.2331 - accuracy: 0.8943 - val_loss: 1.3657 - val_accuracy: 0.6719\n",
            "Epoch 64/100\n",
            "8/8 [==============================] - 21s 3s/step - loss: 0.1872 - accuracy: 0.9266 - val_loss: 2.3659 - val_accuracy: 0.5820\n",
            "Epoch 65/100\n",
            "8/8 [==============================] - 24s 3s/step - loss: 0.1900 - accuracy: 0.9232 - val_loss: 1.8191 - val_accuracy: 0.6484\n",
            "Epoch 66/100\n",
            "8/8 [==============================] - 21s 3s/step - loss: 0.1491 - accuracy: 0.9477 - val_loss: 0.5281 - val_accuracy: 0.8398\n",
            "Epoch 67/100\n",
            "8/8 [==============================] - 21s 3s/step - loss: 0.2884 - accuracy: 0.8732 - val_loss: 1.3893 - val_accuracy: 0.6719\n",
            "Epoch 68/100\n",
            "8/8 [==============================] - 21s 3s/step - loss: 0.2018 - accuracy: 0.9188 - val_loss: 1.6850 - val_accuracy: 0.6641\n",
            "Epoch 69/100\n",
            "8/8 [==============================] - 21s 3s/step - loss: 0.1933 - accuracy: 0.9210 - val_loss: 2.4574 - val_accuracy: 0.5977\n",
            "Epoch 70/100\n",
            "8/8 [==============================] - 24s 3s/step - loss: 0.1757 - accuracy: 0.9299 - val_loss: 1.1427 - val_accuracy: 0.7227\n",
            "Epoch 71/100\n",
            "8/8 [==============================] - 21s 3s/step - loss: 0.1993 - accuracy: 0.9188 - val_loss: 1.8486 - val_accuracy: 0.6758\n",
            "Epoch 72/100\n",
            "8/8 [==============================] - 23s 3s/step - loss: 0.1828 - accuracy: 0.9307 - val_loss: 2.3548 - val_accuracy: 0.6211\n",
            "Epoch 73/100\n",
            "8/8 [==============================] - 21s 3s/step - loss: 0.2144 - accuracy: 0.9188 - val_loss: 1.5404 - val_accuracy: 0.6836\n",
            "Epoch 74/100\n",
            "2/8 [======>.......................] - ETA: 9s - loss: 0.1576 - accuracy: 0.9570"
          ],
          "name": "stdout"
        }
      ]
    },
    {
      "cell_type": "code",
      "metadata": {
        "colab_type": "code",
        "id": "7zNPRWOVJdOH",
        "colab": {}
      },
      "source": [
        "import matplotlib.pyplot as plt\n",
        "acc = history.history['accuracy']\n",
        "val_acc = history.history['val_accuracy']\n",
        "loss = history.history['loss']\n",
        "val_loss = history.history['val_loss']\n",
        "\n",
        "epochs = range(len(acc))\n",
        "\n",
        "plt.plot(epochs, acc, 'r', label='Training accuracy')\n",
        "plt.plot(epochs, val_acc, 'b', label='Validation accuracy')\n",
        "plt.title('Training and validation accuracy')\n",
        "\n",
        "plt.figure()\n",
        "\n",
        "plt.plot(epochs, loss, 'r', label='Training Loss')\n",
        "plt.plot(epochs, val_loss, 'b', label='Validation Loss')\n",
        "plt.title('Training and validation loss')\n",
        "plt.legend()\n",
        "\n",
        "plt.show()"
      ],
      "execution_count": 0,
      "outputs": []
    }
  ]
}